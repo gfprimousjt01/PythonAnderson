{
 "cells": [
  {
   "cell_type": "markdown",
   "metadata": {
    "colab_type": "text",
    "id": "dy6YnrO27oPa"
   },
   "source": [
    "![logo_usjt.png](https://www.usjt.br/app/themes/mobister/dist/images/sao-judas-universidade.png)"
   ]
  },
  {
   "cell_type": "markdown",
   "metadata": {
    "colab_type": "text",
    "id": "i6U16C4b7oPc"
   },
   "source": [
    "# Paradigmas de Linguagens de Programação\n"
   ]
  },
  {
   "cell_type": "markdown",
   "metadata": {
    "colab_type": "text",
    "id": "tP7VLKOU7oPh"
   },
   "source": [
    "# Atividade05 - Python - Orientação a Objetos\n",
    "\n",
    "**Conteúdo:**\n",
    "- classes\n",
    "- atributos\n",
    "- variáveis de class\n",
    "- métodos\n",
    "- encapsulamento\n",
    "- herança simples\n",
    "- herança múltipla\n",
    "- métodos especiais\n",
    "- tratamento de exceções"
   ]
  },
  {
   "cell_type": "markdown",
   "metadata": {
    "colab_type": "text",
    "id": "s3YaluMY7oPi"
   },
   "source": [
    "## Autor\n",
    "- **Aluno:**\n",
    "Gabriel Ferreira Primo\n",
    "Obs: as tarefas devem ser individuais."
   ]
  },
  {
   "cell_type": "markdown",
   "metadata": {
    "colab_type": "text",
    "id": "jZA3ytsa7oPk"
   },
   "source": [
    "## Exercícios"
   ]
  },
  {
   "cell_type": "markdown",
   "metadata": {
    "colab_type": "text",
    "id": "AxA92iNa7oPm"
   },
   "source": [
    "**1** Crie a classe Produto com seu construtor, métodos de acesso e modificadores e os atributos privados nome, do tipo String, preço, do tipo double, quantidade, do tipo int. Crie uma funçãp teste_produto onde você vai ler valores de um produto, instanciar um produto e exibir o produto criado."
   ]
  },
  {
   "cell_type": "code",
   "execution_count": null,
   "metadata": {
    "colab": {},
    "colab_type": "code",
    "id": "U8swGrQn7oPn"
   },
   "outputs": [],
   "source": [
    "class Pagamento:\n",
    "  def _init_(self, nome, preco, qtd):\n",
    "    self.__nome = nome\n",
    "    self.__preco = preco\n",
    "    self.quantidade = qtd\n",
    "\n",
    "  #getNome\n",
    "  @property\n",
    "  def nome(self):\n",
    "    return self.__nome\n",
    "  \n",
    "  #setNome\n",
    "  @nome.setter\n",
    "  def nome(self,nome):\n",
    "    self.__nome = nome\n",
    "\n",
    "  #getPreco\n",
    "  @property\n",
    "  def preco(self):\n",
    "    return self.__preco\n",
    "\n",
    "  #setPreco\n",
    "  @preco.setter\n",
    "  def preco(self, preco):\n",
    "    self.__preco = preco\n",
    "\n",
    "  #getQuantidade\n",
    "  @property\n",
    "  def quantidade(self):\n",
    "    return self.__quantidade\n",
    "\n",
    "  #setQuantidade\n",
    "  @quantidade.setter\n",
    "  def quantidade(self, quantidade):\n",
    "    self.__quantidade = quantidade\n",
    "    \n",
    "def teste_produto():\n",
    "    produto = Produto('Teclado', 55.50, 2);\n",
    "    print('Produto', teste_produto)\n",
    "    print('Preco', teste_produto)\n",
    "    print('Quantidade:', teste_produto)\n",
    "    teste_produto()"
   ]
  },
  {
   "cell_type": "markdown",
   "metadata": {
    "colab_type": "text",
    "id": "Gesx5eHG7oP1"
   },
   "source": [
    "**2** Criar as classes CondicionadorDeAr, Termostato."
   ]
  },
  {
   "cell_type": "markdown",
   "metadata": {
    "colab_type": "text",
    "id": "bN0QvE6e7oP2"
   },
   "source": [
    "**a)** A classe CondicionadorDeAr tem um atributo termostato do tipo Termostato e um atributo boolean chamado ligado. O construtor de CondicionadorDeAr não recebe nenhum parâmetro, mas instancia um termostato e coloca ligado em false. Crie um método de acesso para ligado e outro para termostato. Não precisa fazer os métodos modificadores. Crie um método ligar, que muda ligado para true, e um desligar, que muda ligado para false. Crie um método aumentar_temperatura, que aumenta a temperatura do termostato em um grau cada vez que é chamado até o limite de 28 graus. Crie um método reduzir_temperatura que reduz a temperatura em um grau cada vez que é chamado até o limite de 15 graus. Crie um método imprimir_temperatura que imprime a temperatura atual. Não se esqueça de verificar se o condicionador está ligado antes de aumentar ou diminuir a temperatura ou imprimi-la. Use try-except para tratar erros."
   ]
  },
  {
   "cell_type": "code",
   "execution_count": null,
   "metadata": {
    "colab": {},
    "colab_type": "code",
    "id": "aD_Pi2KP7oP9"
   },
   "outputs": [],
   "source": [
    "class CondicionadorDeAr():\n",
    "    def _init_(self):\n",
    "        self._termostato = Termostato()\n",
    "        self._ligado = False\n",
    "        pass\n",
    "\n",
    "\n",
    "    # getter method\n",
    "    def get_ligar(self):\n",
    "      return self._ligado\n",
    "\n",
    "    def get_termostato(self):\n",
    "      return self._termostato\n",
    "\n",
    "    def ligar(self):\n",
    "        self._ligado = True\n",
    "\n",
    "    def desligar(self):\n",
    "        self._ligado = False\n",
    "\n",
    "    def aumentar_temperatura(self):\n",
    "        try:\n",
    "            if(self._ligado):\n",
    "                if(self._termostato.temperatura < 28):\n",
    "                    \n",
    "                    self._termostato.temperatura = self._termostato.temperatura + 1\n",
    "                    \n",
    "                else:\n",
    "                    print('temperatura acima do permitido')\n",
    "            else:\n",
    "                print('Ar condicionado Desligado')\n",
    "        except:\n",
    "            print('Nao foi Possivel aumentar a temperatura')        \n",
    "\n",
    "    def reduzir_temperatura(self):\n",
    "        try:\n",
    "            if(self._ligado):\n",
    "                if(self._termostato.temperatura > 15):\n",
    "                    self._termostato.temperatura = self._termostato.temperatura - 1\n",
    "                else:\n",
    "                    print('temperatura abaixo do permitido')\n",
    "            else:\n",
    "                print('Ar condicionado Desligado')\n",
    "        except:\n",
    "            print('Nao foi possivel aumentar a temperatura')\n",
    "\n",
    "    def imprimir_temperatura(self):\n",
    "        print(self._termostato.temperatura)"
   ]
  },
  {
   "cell_type": "markdown",
   "metadata": {
    "colab_type": "text",
    "id": "Af3M1iqu7oQM"
   },
   "source": [
    "**b)** A classe Termostato tem um atributo temperatura. Seu construtor não recebe parâmetros, mas instancia a temperatura em 20. Crie um método de acesso o outro modificador. Estes métodos devem respeitar os limites estabelecidos no item anterior."
   ]
  },
  {
   "cell_type": "code",
   "execution_count": null,
   "metadata": {
    "colab": {},
    "colab_type": "code",
    "id": "soWCVaDv7oQQ"
   },
   "outputs": [],
   "source": [
    "class Termostato():\n",
    "    def _init_(self):\n",
    "        self.temperatura = 20\n",
    "        pass\n",
    "\n",
    "    def aumentar_temperatura_pelo_termostato(self):\n",
    "        if(self.temperatura < 28):\n",
    "            self.aumentar_temperatura()\n",
    "        else:\n",
    "            print('nao é possivel aumentar mais')\n",
    "\n",
    "    def reduzir_temperatura_pelo_termostato(self):\n",
    "        if(self.temperatura > 15):\n",
    "            self.reduzir_temperatura()\n",
    "        else:\n",
    "            print('nao é possivel diminuir mais')"
   ]
  },
  {
   "cell_type": "markdown",
   "metadata": {
    "colab_type": "text",
    "id": "8HGNTZoH7oQY"
   },
   "source": [
    "**c)** Crie a classe Usuario, com o método regular_temperatura. Neste método você deve instanciar um CondicionadorDeAr, aumentar a temperatura para 30 graus (receber mensagem de erro), reduzir a temperatura para 10 gruas (receber mensagem de erro). Aumentar a temperatura para 25 graus e imprimir a temperatura. Usar try-except"
   ]
  },
  {
   "cell_type": "code",
   "execution_count": 21,
   "metadata": {
    "colab": {
     "base_uri": "https://localhost:8080/",
     "height": 129
    },
    "colab_type": "code",
    "executionInfo": {
     "elapsed": 633,
     "status": "error",
     "timestamp": 1586388297295,
     "user": {
      "displayName": "Luccas Samuel Martins Magalhães",
      "photoUrl": "",
      "userId": "08634799282919619728"
     },
     "user_tz": 180
    },
    "id": "CAH2Fkli7oQb",
    "outputId": "2e3db8d1-b40e-410e-d954-58865dbf46f0"
   },
   "outputs": [
    {
     "ename": "SyntaxError",
     "evalue": "ignored",
     "output_type": "error",
     "traceback": [
      "\u001b[0;36m  File \u001b[0;32m\"<ipython-input-22-3dd62e772274>\"\u001b[0;36m, line \u001b[0;32m1\u001b[0m\n\u001b[0;31m    [class Usuario():\u001b[0m\n\u001b[0m         ^\u001b[0m\n\u001b[0;31mSyntaxError\u001b[0m\u001b[0;31m:\u001b[0m invalid syntax\n"
     ]
    }
   ],
   "source": [
    "[class Usuario():\n",
    "    def _init_(self):\n",
    "        pass\n",
    "\n",
    "    def regular_temperatura(self):\n",
    "        arcond = CondicionadorDeAr()  \n",
    "        arcond.ligar()\n",
    "        for a in range(0, 6):\n",
    "            arcond.reduzir_temperatura()\n",
    "            arcond.imprimir_temperatura()\n",
    "        for a in range(0, 16):\n",
    "            arcond.aumentar_temperatura()\n",
    "            arcond.imprimir_temperatura()    \n",
    "\n",
    "\n",
    "User =  Usuario()\n",
    "User.regular_temperatura()"
   ]
  },
  {
   "cell_type": "markdown",
   "metadata": {
    "colab_type": "text",
    "id": "nDpW2kQY7oQm"
   },
   "source": [
    "**3** Desenvolver a hierarquia de classes abaixo. Faça métodos `__str__` para todas elas."
   ]
  },
  {
   "cell_type": "markdown",
   "metadata": {
    "colab_type": "text",
    "id": "y_D0atJH7oQo"
   },
   "source": [
    "**a)** Escrever a classe Pagamento, cujos atributos únicos são nome_do_pagador (String), cpf (String) e valor_a_ser_pago (double). Escrever, nesta classe, métodos construtores, métodos de acesso e métodos modificadores para os atributos."
   ]
  },
  {
   "cell_type": "code",
   "execution_count": null,
   "metadata": {
    "colab": {},
    "colab_type": "code",
    "id": "yjnj1xDH7oQq"
   },
   "outputs": [],
   "source": [
    "class Pagamento:\n",
    "    def _init_(self, nome_do_pagador, cpf, valor_a_ser_pago):\n",
    "      self.__nome_do_pagador = nome_do_pagador\n",
    "      self.__cpf = cpf\n",
    "      self.__valor_a_ser_pago = valor_a_ser_pago\n",
    "    \n",
    "    @property\n",
    "    def nome_do_pagador(self):\n",
    "      return self.__nome_do_pagador\n",
    "    @property\n",
    "    def cpf(self):\n",
    "      return self.__cpf\n",
    "    @property\n",
    "    def valor_a_ser_pago(self):\n",
    "      return self.__valor_a_ser_pago\n",
    "    \n",
    "    @nome_do_pagador.setter\n",
    "    def nome_do_pagador(self, nome_do_pagador):\n",
    "      self.__nome_do_pagador = nome_do_pagador\n",
    "    @cpf.setter\n",
    "    def cpf(self, cpf):\n",
    "      self.__cpf = cpf\n",
    "    @valor_a_ser_pago.setter\n",
    "    def valor_a_ser_pago(self, valor_a_ser_pago):\n",
    "      self.__valor_a_ser_pago = valor_a_ser_pago"
   ]
  },
  {
   "cell_type": "markdown",
   "metadata": {
    "colab_type": "text",
    "id": "tyKIfqmu7oQ2"
   },
   "source": [
    "**b)** Escrever a classe CartaoDeCredito, como extensão da classe Pagamento, com o atributo próprio numero_do_cartao (String). Escrever, nesta classe, métodos construtores, métodos de acesso e métodos modificadores para o atributo próprio."
   ]
  },
  {
   "cell_type": "code",
   "execution_count": null,
   "metadata": {
    "colab": {},
    "colab_type": "code",
    "id": "sA_Knioc7oQ3"
   },
   "outputs": [],
   "source": [
    "class CartaoDeCredito(Pagamento):\n",
    "  def _init_(self, nome_do_pagador, cpf, valor_a_ser_pago, numero_do_cartao):\n",
    "      Pagamento._init_(self,nome_do_pagador, cpf, valor_a_ser_pago)\n",
    "      self.__numero_do_cartao = numero_do_cartao\n",
    "\n",
    "  @property\n",
    "  def numero_do_cartao(self):\n",
    "    return self.__numero_do_cartao\n",
    "  @numero_do_cartao.setter\n",
    "  def numero_do_cartao(self, numero_do_cartao):\n",
    "    self.__numero_do_cartao = numero_do_cartao"
   ]
  },
  {
   "cell_type": "markdown",
   "metadata": {
    "colab_type": "text",
    "id": "n6Dp2M657oRC"
   },
   "source": [
    "**c)** Escrever a classe Cheque, como extensão da classe Pagamento, com o atributo próprio numero_do_cheque (String). Escrever, nesta classe, métodos construtores, métodos de acesso e métodos modificadores para o atributo próprio."
   ]
  },
  {
   "cell_type": "code",
   "execution_count": null,
   "metadata": {
    "colab": {},
    "colab_type": "code",
    "id": "OL5F-1UD7oRC"
   },
   "outputs": [],
   "source": [
    "class Cheque(Pagamento):\n",
    "  def _init_(self, nome_do_pagador, cpf, valor_a_ser_pago, numero_do_cheque):\n",
    "    Pagamento._init_(self,nome_do_pagador, cpf, valor_a_ser_pago)\n",
    "    self.__numero_do_cheque = numero_do_cheque\n",
    "\n",
    "  @property\n",
    "  def numero_do_cheque(self):\n",
    "    return self.__numero_do_cheque\n",
    "  @numero_do_cheque.setter\n",
    "  def numero_do_cheque(self, numero_do_cheque):\n",
    "    self.__numero_do_cheque = numero_do_cheque"
   ]
  },
  {
   "cell_type": "markdown",
   "metadata": {
    "colab_type": "text",
    "id": "qXTGvcfp7oRF"
   },
   "source": [
    "**d)** Escrever a classe Boleto, como extensão da classe Pagamento, com os atributos próprio numero_do_boleto (String), dia (int), mes (int) e ano (int) de vencimento. Escrever, nesta classe, métodos construtores, métodos de acesso e métodos modificadores para o atributo próprio."
   ]
  },
  {
   "cell_type": "code",
   "execution_count": null,
   "metadata": {
    "colab": {},
    "colab_type": "code",
    "id": "61j-3BPc7oRG"
   },
   "outputs": [],
   "source": [
    "class Boleto(Pagamento):\n",
    "  def _init_(self, nome_do_pagador, cpf, valor_a_ser_pago, numero_do_boleto, dia, mes, ano):\n",
    "    Pagamento._init_(self,nome_do_pagador, cpf, valor_a_ser_pago)\n",
    "\n",
    "    self.__numero_do_boleto = numero_do_boleto\n",
    "    self.__dia = dia\n",
    "    self.__mes = mes\n",
    "    self.__ano = ano\n",
    "\n",
    "  @property\n",
    "  def numero_do_boleto(self):\n",
    "    return self.__numero_do_boleto\n",
    "  @property\n",
    "  def dia(self):\n",
    "    return self.__dia\n",
    "  @property\n",
    "  def mes(self):\n",
    "    return self.__mes\n",
    "  @property\n",
    "  def ano(self):\n",
    "    return self.__ano\n",
    "  @numero_do_boleto.setter\n",
    "  def numero_do_boleto(self, numero_do_boleto):\n",
    "    self.__numero_do_boleto = numero_do_boleto\n",
    "  @dia.setter\n",
    "  def dia(self, dia):\n",
    "    self.__dia = dia\n",
    "  @mes.setter\n",
    "  def mes(self, mes):\n",
    "    self.__mes = mes\n",
    "  @ano.setter\n",
    "  def ano(self, ano):\n",
    "    self.__ano = ano"
   ]
  },
  {
   "cell_type": "markdown",
   "metadata": {
    "colab_type": "text",
    "id": "B9tw5jxg7oRI"
   },
   "source": [
    "**e)** Escrever a função teste_pagamentos que instancie cada um dos 3 tipos de pagamento e teste cada um deles."
   ]
  },
  {
   "cell_type": "code",
   "execution_count": null,
   "metadata": {
    "colab": {
     "base_uri": "https://localhost:8080/",
     "height": 316
    },
    "colab_type": "code",
    "executionInfo": {
     "elapsed": 693,
     "status": "error",
     "timestamp": 1586386014852,
     "user": {
      "displayName": "Luccas Samuel Martins Magalhães",
      "photoUrl": "",
      "userId": "08634799282919619728"
     },
     "user_tz": 180
    },
    "id": "oIXbimWz7oRK",
    "outputId": "b2c59ea7-224d-48dd-b8b6-a79a0e68a0d6"
   },
   "outputs": [
    {
     "ename": "TypeError",
     "evalue": "ignored",
     "output_type": "error",
     "traceback": [
      "\u001b[0;31m---------------------------------------------------------------------------\u001b[0m",
      "\u001b[0;31mTypeError\u001b[0m                                 Traceback (most recent call last)",
      "\u001b[0;32m<ipython-input-13-ce2836bce3c3>\u001b[0m in \u001b[0;36m<module>\u001b[0;34m()\u001b[0m\n\u001b[1;32m     18\u001b[0m \u001b[0;34m\u001b[0m\u001b[0m\n\u001b[1;32m     19\u001b[0m \u001b[0;34m\u001b[0m\u001b[0m\n\u001b[0;32m---> 20\u001b[0;31m \u001b[0mteste_pagamento\u001b[0m\u001b[0;34m(\u001b[0m\u001b[0;34m)\u001b[0m\u001b[0;34m\u001b[0m\u001b[0;34m\u001b[0m\u001b[0m\n\u001b[0m",
      "\u001b[0;32m<ipython-input-13-ce2836bce3c3>\u001b[0m in \u001b[0;36mteste_pagamento\u001b[0;34m()\u001b[0m\n\u001b[1;32m      1\u001b[0m \u001b[0;32mdef\u001b[0m \u001b[0mteste_pagamento\u001b[0m\u001b[0;34m(\u001b[0m\u001b[0;34m)\u001b[0m\u001b[0;34m:\u001b[0m\u001b[0;34m\u001b[0m\u001b[0;34m\u001b[0m\u001b[0m\n\u001b[0;32m----> 2\u001b[0;31m   \u001b[0mc\u001b[0m \u001b[0;34m=\u001b[0m \u001b[0mCartaoDeCredito\u001b[0m\u001b[0;34m(\u001b[0m\u001b[0;34m\"Caetano\"\u001b[0m\u001b[0;34m,\u001b[0m \u001b[0;36m43123462823\u001b[0m\u001b[0;34m,\u001b[0m \u001b[0;36m15000.00\u001b[0m\u001b[0;34m,\u001b[0m \u001b[0;36m224466584\u001b[0m\u001b[0;34m)\u001b[0m\u001b[0;34m\u001b[0m\u001b[0;34m\u001b[0m\u001b[0m\n\u001b[0m\u001b[1;32m      3\u001b[0m   \u001b[0mb\u001b[0m \u001b[0;34m=\u001b[0m \u001b[0mBoleto\u001b[0m\u001b[0;34m(\u001b[0m\u001b[0;34m\"Asaw\"\u001b[0m\u001b[0;34m,\u001b[0m \u001b[0;36m43123462823\u001b[0m\u001b[0;34m,\u001b[0m \u001b[0;36m15000.00\u001b[0m\u001b[0;34m,\u001b[0m \u001b[0;36m224466584\u001b[0m\u001b[0;34m,\u001b[0m \u001b[0;36m12\u001b[0m\u001b[0;34m,\u001b[0m \u001b[0;36m20\u001b[0m \u001b[0;34m,\u001b[0m\u001b[0;36m2020\u001b[0m\u001b[0;34m)\u001b[0m\u001b[0;34m\u001b[0m\u001b[0;34m\u001b[0m\u001b[0m\n\u001b[1;32m      4\u001b[0m   \u001b[0md\u001b[0m \u001b[0;34m=\u001b[0m \u001b[0mCheque\u001b[0m\u001b[0;34m(\u001b[0m\u001b[0;34m\"Andre\"\u001b[0m\u001b[0;34m,\u001b[0m \u001b[0;36m466544664\u001b[0m\u001b[0;34m,\u001b[0m \u001b[0;36m25116.00\u001b[0m\u001b[0;34m,\u001b[0m \u001b[0;36m256\u001b[0m\u001b[0;34m)\u001b[0m\u001b[0;34m\u001b[0m\u001b[0;34m\u001b[0m\u001b[0m\n\u001b[1;32m      5\u001b[0m   \u001b[0mprint\u001b[0m\u001b[0;34m(\u001b[0m\u001b[0;34m'==TESTE CARTAO DE CREDITO=='\u001b[0m\u001b[0;34m)\u001b[0m\u001b[0;34m\u001b[0m\u001b[0;34m\u001b[0m\u001b[0m\n",
      "\u001b[0;31mTypeError\u001b[0m: object() takes no parameters"
     ]
    }
   ],
   "source": [
    "def teste_pagamento():\n",
    "  c = CartaoDeCredito(\"Caetano\", 43123462823, 15000.00, 224466584)\n",
    "  b = Boleto(\"Asaw\", 43123462823, 15000.00, 224466584, 12, 20 ,2020)\n",
    "  d = Cheque(\"Andre\", 466544664, 25116.00, 256)\n",
    "  print('==TESTE CARTAO DE CREDITO==')\n",
    "  print('Nome', c.nome_do_pagador)\n",
    "  print('CPF', c.cpf)\n",
    "  print('Numero do Cartao', c.numero_do_cartao)\n",
    "  print('==TESTE DO BOLETO==')\n",
    "  print('Nome', b.nome_do_pagador)\n",
    "  print('CPF', b.cpf)\n",
    "  print('Numero do Boleto', b.numero_do_boleto)\n",
    "  print('Dia', b.dia,'/',b.mes,'/',b.ano)\n",
    "  print('==TESTE DO CHEQUE==')\n",
    "  print('Nome', d.nome_do_pagador)\n",
    "  print('CPF', d.cpf)\n",
    "  print('Numero do cheque', d.numero_do_cheque)\n",
    "\n",
    "\n",
    "teste_pagamento()"
   ]
  },
  {
   "cell_type": "markdown",
   "metadata": {
    "colab_type": "text",
    "id": "WMoZ_jm87oRh"
   },
   "source": [
    "**4** Ponto, Linha e Reta: \n",
    "- Crie a classe Ponto. Ela possui um atributo, uma tupla de inteiros x e y, que denotam um ponto no plano cartesiano.\n",
    "- Crie  classe Linha que tem dois atributos, coordenada1 e coordenada2. Cada coordenada é um ponto do segmento de reta. Faça métodos que calculem o comprimento do segmento de reta e seu coeficiente angular.\n",
    "- Cria a classe Reta, subclasse de Linha. Esta classe possui dois métodos: um que retorna um Ponto dada uma coordenada x. E outro que tamém retorna um Ponto dada uma coordenada y. Para implementar estes dois métodos é necessário criar a equação da reta. Veja as fórmulas abaixo.\n",
    "\n",
    "![grafico](https://www.somatematica.com.br/emedio/retas/Image83.gif)\n",
    "\n",
    "Cálculo do comprimento do segmento de reta: $d = \\sqrt{({x}_B-{x}_A)^2+({y}_B-{y}_A)^2}$\n",
    "\n",
    "Cálculo do coeficiente angular: $m = \\frac{{x}_B-{x}_A}{{y}_B-{y}_A}$\n",
    "\n",
    "Equação da reta: dado um ponto $({x}_0,{y}_0)$ qualquer pertencente à reta, sua equação, usando o coeficiente angular, é: $y-{y}_0=m(x-{x}_0)$ \n"
   ]
  },
  {
   "cell_type": "code",
   "execution_count": null,
   "metadata": {
    "colab": {},
    "colab_type": "code",
    "id": "ckSDTDgm7oRh"
   },
   "outputs": [],
   "source": []
  },
  {
   "cell_type": "markdown",
   "metadata": {
    "colab_type": "text",
    "id": "3GJV0OKJ7oRt"
   },
   "source": [
    "**5** Crie a seguinte hierarquia de classes de figuras geométricas. Veja na figura as fórmulas:\n",
    "- A classe Figura deve ter o método sem implementação area.\n",
    "- A classe Circulo é subclasse de Figura.\n",
    "- A classe Poligono é subclasse de Figura e deve ter os atributos base e altura.\n",
    "- As classes Triangulo, Losango, Retangulo e Quadrado são subclasses de Poligono. Tente criar mais uma generalização aqui olhando as fórmulas da área.\n",
    "- Os polígonos Retangulo e Quadrado devem herdar também a classe Diagonal, que deve ter um método que calcula a diagonal.\n",
    "- Crie uma classe Geometria com uma lista de Figuras com pelo menos uma figura de cada e imprima suas áreas e diagonais.\n",
    "\n",
    "![areas](https://i0.wp.com/geekiegames.geekie.com.br/blog/wp-content/uploads/2016/10/formulas-poligonos-e1477663474823.png?w=498&ssl=1)\n",
    "\n",
    "![diagonal](https://www.wikihow.com/images_en/thumb/7/71/Find-the-Measurement-of-the-Diagonal-Inside-a-Rectangle-Step-1-Version-3.jpg/v4-728px-Find-the-Measurement-of-the-Diagonal-Inside-a-Rectangle-Step-1-Version-3.jpg)"
   ]
  },
  {
   "cell_type": "code",
   "execution_count": null,
   "metadata": {
    "colab": {
     "base_uri": "https://localhost:8080/",
     "height": 231
    },
    "colab_type": "code",
    "executionInfo": {
     "elapsed": 1441,
     "status": "error",
     "timestamp": 1586385437257,
     "user": {
      "displayName": "Luccas Samuel Martins Magalhães",
      "photoUrl": "",
      "userId": "08634799282919619728"
     },
     "user_tz": 180
    },
    "id": "KmiR-ert7oRu",
    "outputId": "88d26c42-94e6-4fa8-83b9-2611d30a27ee"
   },
   "outputs": [
    {
     "ename": "AttributeError",
     "evalue": "ignored",
     "output_type": "error",
     "traceback": [
      "\u001b[0;31m---------------------------------------------------------------------------\u001b[0m",
      "\u001b[0;31mAttributeError\u001b[0m                            Traceback (most recent call last)",
      "\u001b[0;32m<ipython-input-1-47186d7aae56>\u001b[0m in \u001b[0;36m<module>\u001b[0;34m()\u001b[0m\n\u001b[1;32m    102\u001b[0m \u001b[0;34m\u001b[0m\u001b[0m\n\u001b[1;32m    103\u001b[0m \u001b[0mgeometria\u001b[0m \u001b[0;34m=\u001b[0m \u001b[0mGeometria\u001b[0m\u001b[0;34m(\u001b[0m\u001b[0;34m)\u001b[0m\u001b[0;34m\u001b[0m\u001b[0;34m\u001b[0m\u001b[0m\n\u001b[0;32m--> 104\u001b[0;31m \u001b[0;32mfor\u001b[0m \u001b[0mfigura\u001b[0m \u001b[0;32min\u001b[0m \u001b[0mgeometria\u001b[0m\u001b[0;34m.\u001b[0m\u001b[0mfiguras\u001b[0m\u001b[0;34m:\u001b[0m\u001b[0;34m\u001b[0m\u001b[0;34m\u001b[0m\u001b[0m\n\u001b[0m\u001b[1;32m    105\u001b[0m     \u001b[0mprint\u001b[0m\u001b[0;34m(\u001b[0m\u001b[0mtype\u001b[0m\u001b[0;34m(\u001b[0m\u001b[0mfigura\u001b[0m\u001b[0;34m)\u001b[0m\u001b[0;34m)\u001b[0m\u001b[0;34m\u001b[0m\u001b[0;34m\u001b[0m\u001b[0m\n\u001b[1;32m    106\u001b[0m     \u001b[0mprint\u001b[0m\u001b[0;34m(\u001b[0m\u001b[0;34m'Área: %.2f'\u001b[0m \u001b[0;34m%\u001b[0m \u001b[0mfigura\u001b[0m\u001b[0;34m.\u001b[0m\u001b[0marea\u001b[0m\u001b[0;34m(\u001b[0m\u001b[0;34m)\u001b[0m\u001b[0;34m)\u001b[0m\u001b[0;34m\u001b[0m\u001b[0;34m\u001b[0m\u001b[0m\n",
      "\u001b[0;31mAttributeError\u001b[0m: 'Geometria' object has no attribute 'figuras'"
     ]
    }
   ],
   "source": [
    "from abc import ABC, abstractmethod\n",
    "import math\n",
    "class Figura(ABC):\n",
    "    \n",
    "    def _init_(self):\n",
    "        super()._init_()\n",
    "    \n",
    "    @abstractmethod\n",
    "    def area(self):\n",
    "        pass\n",
    "    \n",
    "    @abstractmethod\n",
    "    def perimetro(self):\n",
    "        pass\n",
    "    \n",
    "class Circulo(Figura):\n",
    "    \n",
    "    def _init_(self, raio):\n",
    "        self.raio = raio\n",
    "        Figura._init_(self)\n",
    "        \n",
    "    def area(self):\n",
    "        return math.pi * (self.raio**2)\n",
    "    \n",
    "    def perimetro(self):\n",
    "        return 2 * math.pi * self.raio\n",
    "        \n",
    "class Poligono(Figura, ABC):\n",
    "    \n",
    "    def _init_(self, base, altura):\n",
    "        self.base = base\n",
    "        self.altura = altura\n",
    "        Figura._init_(self)\n",
    "        \n",
    "class Diagonal(ABC):\n",
    "    \n",
    "    def _init_(self):\n",
    "        super()._init_()\n",
    "        \n",
    "    def diagonal(self):\n",
    "        return math.sqrt((self.base*2) + (self.altura*2))\n",
    "        \n",
    "class Triangulo(Poligono):\n",
    "    \n",
    "    def _init_(self, base, altura):\n",
    "        super()._init_(base, altura)\n",
    "        \n",
    "    def area(self):\n",
    "        return (self.base * self.altura) / 2\n",
    "    \n",
    "    def perimetro(self):\n",
    "        pass\n",
    "        \n",
    "class Losango(Poligono, Diagonal):\n",
    "    \n",
    "    def _init_(self, base, altura):\n",
    "        Poligono._init_(self, base, altura)\n",
    "        Diagonal._init_(self)\n",
    "        \n",
    "    def area(self):\n",
    "        return (self.base * self.altura) / 2\n",
    "    \n",
    "    def perimetro(self):\n",
    "        return self.base*2 + self.altura*2\n",
    "        \n",
    "class Retangulo(Poligono, Diagonal):\n",
    "    \n",
    "    def _init_(self, base, altura):\n",
    "        Poligono._init_(self, base, altura)\n",
    "        Diagonal._init_(self)\n",
    "        \n",
    "    def area(self):\n",
    "        return self.base * self.altura\n",
    "                         \n",
    "    def diagonal(self):\n",
    "        return math.sqrt((self.base*2) + (self.altura*2))\n",
    "    \n",
    "    def perimetro(self):\n",
    "        return self.base*2 + self.altura*2\n",
    "        \n",
    "class Quadrado(Poligono):\n",
    "    \n",
    "    def _init_(self, base, altura):\n",
    "        super()._init_(base, altura)\n",
    "        \n",
    "    def area(self):\n",
    "        return self.base * self.altura\n",
    "    \n",
    "    def perimetro(self):\n",
    "        return self.base*2 + self.altura*2\n",
    "    \n",
    "class Geometria:\n",
    "    \n",
    "    def _init_(self):\n",
    "        self.figuras = [\n",
    "            Circulo(8),\n",
    "            Triangulo(3, 7),\n",
    "            Losango(5, 9),\n",
    "            Retangulo(17, 3),\n",
    "            Quadrado(3, 8)\n",
    "        ]\n",
    "        \n",
    "geometria = Geometria()\n",
    "for figura in geometria.figuras:\n",
    "    print(type(figura))\n",
    "    print('Área: %.2f' % figura.area())\n",
    "    print('Perímetro' + str(figura.perimetro()) + \"\\n\")"
   ]
  },
  {
   "cell_type": "code",
   "execution_count": null,
   "metadata": {
    "colab": {},
    "colab_type": "code",
    "id": "IGHlD1gd7oRw"
   },
   "outputs": [],
   "source": []
  }
 ],
 "metadata": {
  "colab": {
   "name": "Luccas Samuel Martins Magalhães - USJT-2020-LINGPROG-aula05-pratica-oo-exceptions.ipynb",
   "provenance": []
  },
  "kernelspec": {
   "display_name": "Python 3",
   "language": "python",
   "name": "python3"
  },
  "language_info": {
   "codemirror_mode": {
    "name": "ipython",
    "version": 3
   },
   "file_extension": ".py",
   "mimetype": "text/x-python",
   "name": "python",
   "nbconvert_exporter": "python",
   "pygments_lexer": "ipython3",
   "version": "3.7.3"
  }
 },
 "nbformat": 4,
 "nbformat_minor": 2
}
