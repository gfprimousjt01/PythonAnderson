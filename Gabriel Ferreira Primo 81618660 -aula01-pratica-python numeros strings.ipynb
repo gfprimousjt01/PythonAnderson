{
 "cells": [
  {
   "cell_type": "markdown",
   "metadata": {
    "colab_type": "text",
    "id": "1ScI8-UPYwDa"
   },
   "source": [
    "![logo usjt](https://www.usjt.br/app/themes/mobister/dist/images/sao-judas-universidade.png)"
   ]
  },
  {
   "cell_type": "markdown",
   "metadata": {
    "colab_type": "text",
    "id": "JMB0gTlVYwDf"
   },
   "source": []
  },
  {
   "cell_type": "markdown",
   "metadata": {
    "colab_type": "text",
    "id": "WMBNqkmkYwDi"
   },
   "source": [
    "# Atividade01 - Pyton Básico\n",
    "\n",
    "**Conteúdo:**\n",
    "- Introdução ao Python\n",
    "- Anaconda e Jupyter Notebook\n",
    "- Números\n",
    "- Strings \n",
    "- Formatação de Strings"
   ]
  },
  {
   "cell_type": "markdown",
   "metadata": {
    "colab_type": "text",
    "id": "hEvsYUHwYwDk"
   },
   "source": [
    "## Autores\n",
    "- **Aluno:**\n",
    "Gabriel Ferreira Primo"
   ]
  },
  {
   "cell_type": "markdown",
   "metadata": {
    "colab_type": "text",
    "id": "P0_E3R8wYwDn"
   },
   "source": [
    "## Exercícios"
   ]
  },
  {
   "cell_type": "markdown",
   "metadata": {
    "colab_type": "text",
    "id": "aBpenXtFYwDp"
   },
   "source": [
    "#### 1 Faça um Programa que peça o raio de um círculo, calcule e mostre sua área."
   ]
  },
  {
   "cell_type": "markdown",
   "metadata": {
    "colab_type": "text",
    "id": "a3mtjwTGxLUC"
   },
   "source": []
  },
  {
   "cell_type": "code",
   "execution_count": null,
   "metadata": {
    "colab": {},
    "colab_type": "code",
    "id": "uSD3v8AwYwDq"
   },
   "outputs": [],
   "source": [
    "import math\n",
    "\n",
    "raio = float(input(\"Digite o raio do circulo:\"))\n",
    "area = math.pi * (raio**2)\n",
    "print('A área do circulo é: %f' %area) "
   ]
  },
  {
   "cell_type": "markdown",
   "metadata": {
    "colab_type": "text",
    "id": "Nf8JptUsYwDw"
   },
   "source": [
    "#### 2 Faça um Programa que peça a temperatura em graus Farenheit, transforme e mostre a temperatura em graus Celsius. C = (5 * (F-32) / 9)."
   ]
  },
  {
   "cell_type": "code",
   "execution_count": null,
   "metadata": {
    "colab": {},
    "colab_type": "code",
    "id": "Tbde83rEYwDy"
   },
   "outputs": [],
   "source": [
    "far = int(input(\"Digite a temperatura em Farenheit:\"))\n",
    "cel = (5*(far-32)/9)\n",
    "print('A temperatura em C° é: %f' %cel)"
   ]
  },
  {
   "cell_type": "markdown",
   "metadata": {
    "colab_type": "text",
    "id": "PHb8BmcCYwD1"
   },
   "source": [
    "#### 3 Faça um Programa que peça 2 números inteiros e um número real. Calcule e mostre:\n",
    "- o produto do dobro do primeiro com metade do segundo .\n",
    "- a soma do triplo do primeiro com o terceiro.\n",
    "- o terceiro elevado ao cubo."
   ]
  },
  {
   "cell_type": "code",
   "execution_count": null,
   "metadata": {
    "colab": {},
    "colab_type": "code",
    "id": "UjrhMCGXYwD2"
   },
   "outputs": [],
   "source": [
    "inteiro1 = int(input(\"Digite um numero inteiro:\"))\n",
    "inteiro2 = int(input(\"Digite mais um numero inteiro:\"))\n",
    "real = float(input(\"Digite um numero real:\"))\n",
    "\n",
    "res1 = (inteiro1*2)*(inteiro2/2)\n",
    "res2 = (inteiro1*3)+real\n",
    "res3 = real**3\n",
    "\n",
    "print('Resultado 1: %f' %res1)\n",
    "print('Resultado 2: %f' %res2)\n",
    "print('Resultado 3: %f' %res3)"
   ]
  },
  {
   "cell_type": "markdown",
   "metadata": {
    "colab_type": "text",
    "id": "BAS5FXQLYwD4"
   },
   "source": [
    "#### 4 Faça um programa que permita ao usuário digitar seu nome e em seguida mostre o nome do usuário de trás para frente utilizando somente letras maiúsculas. Observação: não use loops."
   ]
  },
  {
   "cell_type": "code",
   "execution_count": null,
   "metadata": {
    "colab": {},
    "colab_type": "code",
    "id": "lDNusKbMYwD5"
   },
   "outputs": [],
   "source": [
    "nome = input(\"Digite o seu nome:\")\n",
    "nome[::-1].upper()"
   ]
  },
  {
   "cell_type": "markdown",
   "metadata": {
    "colab_type": "text",
    "id": "t_7QAkStYwD8"
   },
   "source": [
    "#### 5 Peça para o usuário digitar uma frase. Escreva esta frase iniciando todas as palavras com letra maiúscula. Não use loops."
   ]
  },
  {
   "cell_type": "code",
   "execution_count": null,
   "metadata": {
    "colab": {},
    "colab_type": "code",
    "id": "Y9326uEBYwD9"
   },
   "outputs": [],
   "source": [
    "frase = input(\"Digite uma frase:\")\n",
    "frase.title()"
   ]
  },
  {
   "cell_type": "markdown",
   "metadata": {
    "colab_type": "text",
    "id": "6SLACxrAYwD_"
   },
   "source": [
    "#### 6 Faça um programa que leia 2 strings e informe o conteúdo delas seguido do seu comprimento. \n",
    "#### Exemplo:\n",
    "`\n",
    "String 1: Brasil Hexa 2018\n",
    "String 2: Brasil! Hexa 2018!\n",
    "Tamanho de \"Brasil Hexa 2018\": 16 caracteres\n",
    "Tamanho de \"Brasil! Hexa 2018!\": 18 caracteres\n",
    "`"
   ]
  },
  {
   "cell_type": "code",
   "execution_count": null,
   "metadata": {
    "colab": {},
    "colab_type": "code",
    "id": "jBqecp4ZYwEA"
   },
   "outputs": [],
   "source": [
    "frase = input(\"Digite uma frase:\")\n",
    "frase2 = input(\"Digite uma frase:\")\n",
    "\n",
    "print('A primeira string \\\"'+frase+'\" tem %.1f caracteres' %len(frase))\n",
    "print('A segunda string \\\"'+frase2+'\" tem %.1f caracteres' %len(frase2))"
   ]
  },
  {
   "cell_type": "markdown",
   "metadata": {
    "colab_type": "text",
    "id": "Y8s425XjYwEC"
   },
   "source": [
    "#### 7 Faça um Programa que pergunte quanto você ganha por hora e o número de horas trabalhadas no mês. Calcule e mostre o total do seu salário no referido mês."
   ]
  },
  {
   "cell_type": "code",
   "execution_count": null,
   "metadata": {
    "colab": {},
    "colab_type": "code",
    "id": "M0EpqVQ3YwED"
   },
   "outputs": [],
   "source": [
    "salario = float(input(\"Digite o seu salário por hora:\"))\n",
    "horas = int(input(\"Digite as horas trabalhadas no mês:\"))\n",
    "res = salario*horas\n",
    "\n",
    "print('O seu salário total no mês foi: R$%.2f' %res)"
   ]
  },
  {
   "cell_type": "markdown",
   "metadata": {
    "colab_type": "text",
    "id": "3IqxmmHRYwEF"
   },
   "source": [
    "#### 8 João Papo-de-Pescador, homem de bem, comprou um microcomputador para controlar o rendimento diário de seu trabalho. Toda vez que ele traz um peso de peixes maior que o estabelecido pelo regulamento de pesca do estado de São Paulo (50 quilos) deve pagar uma multa de R$ 4,00 por quilo excedente. João precisa que você faça um programa que leia a variável peso (peso de peixes) e verifique se há excesso. Se houver, gravar na variável excesso e na variável multa o valor da multa que João deverá pagar. Caso contrário mostrar tais variáveis com o conteúdo ZERO."
   ]
  },
  {
   "cell_type": "code",
   "execution_count": null,
   "metadata": {
    "colab": {},
    "colab_type": "code",
    "id": "AOfZWRUOYwEG"
   },
   "outputs": [],
   "source": [
    "peso = float(input(\"Digite o peso dos peixes:\"))\n",
    "if(peso > 50):\n",
    "  excesso = peso - 50\n",
    "  multa = excesso * 4.00\n",
    "else:\n",
    "    excesso = 0\n",
    "    multa = 0\n",
    "\n",
    "print('O excesso foi: %.2f' %excesso)\n",
    "print('A multa foi: %.2f' %multa)"
   ]
  },
  {
   "cell_type": "markdown",
   "metadata": {
    "colab_type": "text",
    "id": "ATfoQ43KYwEI"
   },
   "source": [
    "#### 9 Faça um Programa que calcule a área de um quadrado, em seguida mostre o dobro desta área para o usuário."
   ]
  },
  {
   "cell_type": "code",
   "execution_count": null,
   "metadata": {
    "colab": {},
    "colab_type": "code",
    "id": "x-2nnFpVYwEI"
   },
   "outputs": [],
   "source": [
    "lado = float(input(\"Digite o tamanho do lado do quadrado:\"))\n",
    "area = lado*lado\n",
    "print('A área é: %.2f' %area)\n",
    "area = area*2\n",
    "print('O dobro da área é: %.2f' %area)"
   ]
  },
  {
   "cell_type": "markdown",
   "metadata": {
    "colab_type": "text",
    "id": "CTTlXP9dYwEL"
   },
   "source": [
    "#### 10 Faça um Programa que peça a temperatura em graus Celsius, transforme e mostre em graus Farenheit."
   ]
  },
  {
   "cell_type": "code",
   "execution_count": null,
   "metadata": {
    "colab": {},
    "colab_type": "code",
    "id": "cdsYKUH5YwEL"
   },
   "outputs": [],
   "source": [
    "cel = int(input(\"Digite a temperatura em °C:\"))\n",
    "far = (cel * (9/5))+32\n",
    "print('A temperatura em Farenheit é: %.1f °F' %far)"
   ]
  },
  {
   "cell_type": "markdown",
   "metadata": {
    "colab_type": "text",
    "id": "tzVLrpjTYwEN"
   },
   "source": [
    "#### 11 Faça um Programa que pergunte quanto você ganha por hora e o número de horas trabalhadas no mês. Calcule e mostre o total do seu salário no referido mês, sabendo-se que são descontados 11% para o Imposto de Renda, 8% para o INSS e 5% para o sindicato, faça um programa que nos dê:\n",
    "- salário bruto.\n",
    "- quanto pagou ao INSS.\n",
    "- quanto pagou ao sindicato.\n",
    "- o salário líquido.\n",
    "- calcule os descontos e o salário líquido, conforme a tabela abaixo:\n",
    "<table>\n",
    "<tr><td>+</td><td>Salário Bruto</td><td>R\\$</td><td>0.00</td></tr>\n",
    "<tr><td>-</td><td>IR (27,5%)</td><td>R\\$</td><td>0.00</td></tr>\n",
    "<tr><td>-</td><td>INSS (11%)</td><td>R\\$</td><td>0.00</td></tr>\n",
    "<tr><td>-</td><td>Sindicato ( 5%)</td><td>R\\$</td><td>0.00</td></tr>\n",
    "<tr><td>=</td><td>Salário Liquido</td><td>R\\$</td><td>0.00</td></tr>\n",
    "</table>\n",
    "\n",
    "Obs.: Salário Bruto - Descontos = Salário Líquido.\n",
    "Utilize formatação de strings para o relatório sair alinhadinho."
   ]
  },
  {
   "cell_type": "code",
   "execution_count": null,
   "metadata": {
    "colab": {},
    "colab_type": "code",
    "id": "aCh9-h45YwEO"
   },
   "outputs": [],
   "source": [
    "salario = float(input(\"Digite o seu salário por hora:\"))\n",
    "horas = int(input(\"Digite as horas trabalhadas no mês:\"))\n",
    "bruto = salario*horas\n",
    "ir = (bruto*27.5)/100\n",
    "inss = (bruto*11)/100\n",
    "sind = (bruto*5)/100\n",
    "liquido = bruto - (ir+inss+sind)\n",
    "\n",
    "print('{0:17}  {1:9}'.format('+ Salário Bruto', 'R$ %.2f'%bruto))\n",
    "print('{0:17}  {1:9}'.format('- IR', 'R$ %.2f'%ir))\n",
    "print('{0:17}  {1:9}'.format('- INSS', 'R$ %.2f'%inss))\n",
    "print('{0:17}  {1:9}'.format('- Sindicato', 'R$ %.2f'%sind))\n",
    "print('{0:15}  {1:9}'.format('= Salário Liquido', 'R$ %.2f'%liquido))"
   ]
  },
  {
   "cell_type": "markdown",
   "metadata": {
    "colab_type": "text",
    "id": "ClmTS9b9YwEP"
   },
   "source": [
    "#### 12 Leet é uma forma de se escrever o alfabeto latino usando outros símbolos em lugar das letras, como números por exemplo. A própria palavra leet admite muitas variações, como l33t ou 1337. O uso do leet reflete uma subcultura relacionada ao mundo dos jogos de computador e internet, sendo muito usada para confundir os iniciantes e afirmar-se como parte de um grupo. Pesquise sobre as principais formas de traduzir as letras. Depois, faça um programa que peça uma texto e transforme-o para a grafia leet speak.\n",
    "Desafio: não use loops nem desvios condicionais.\n"
   ]
  },
  {
   "cell_type": "code",
   "execution_count": null,
   "metadata": {
    "colab": {},
    "colab_type": "code",
    "id": "B25PPzjKYwEQ"
   },
   "outputs": [],
   "source": [
    "texto = input(\"Digite o texto que será codificado:\")\n",
    "texto = texto.replace('a','4').replace('e','&').replace('i','!').replace('o','0').replace('u','v')\n",
    "\n",
    "print (texto)"
   ]
  }
 ],
 "metadata": {
  "colab": {
   "collapsed_sections": [],
   "name": "Luccas Samuel Martins Magalhães - USJT-2020-LINGPROG-aula01-pratica-python numeros strings.ipynb",
   "provenance": []
  },
  "kernelspec": {
   "display_name": "Python 3",
   "language": "python",
   "name": "python3"
  },
  "language_info": {
   "codemirror_mode": {
    "name": "ipython",
    "version": 3
   },
   "file_extension": ".py",
   "mimetype": "text/x-python",
   "name": "python",
   "nbconvert_exporter": "python",
   "pygments_lexer": "ipython3",
   "version": "3.7.3"
  }
 },
 "nbformat": 4,
 "nbformat_minor": 2
}
