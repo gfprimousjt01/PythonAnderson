{
 "cells": [
  {
   "cell_type": "markdown",
   "metadata": {
    "colab_type": "text",
    "id": "aAvm_vpIOGd-"
   },
   "source": [
    "![logo_usjt.png](https://www.usjt.br/app/themes/mobister/dist/images/sao-judas-universidade.png)"
   ]
  },
  {
   "cell_type": "markdown",
   "metadata": {
    "colab_type": "text",
    "id": "U6DI26rbOGd_"
   },
   "source": []
  },
  {
   "cell_type": "markdown",
   "metadata": {
    "colab_type": "text",
    "id": "I2t-81UVOGeA"
   },
   "source": [
    "# Atividade04 - Python Básico - Funções\n",
    "\n",
    "**Conteúdo:**\n",
    "- funções \n",
    "- escopo de variáveis\n",
    "- args e kwargs"
   ]
  },
  {
   "cell_type": "markdown",
   "metadata": {
    "colab_type": "text",
    "id": "E4PCj9i0OGeB"
   },
   "source": [
    "## Autor\n",
    "- **Aluno:**\n",
    "Gabriel Ferreira Primo\n",
    "Obs: as tarefas devem ser individuais."
   ]
  },
  {
   "cell_type": "markdown",
   "metadata": {
    "colab_type": "text",
    "id": "a_NkZb-8OGeC"
   },
   "source": [
    "## Exercícios"
   ]
  },
  {
   "cell_type": "markdown",
   "metadata": {
    "colab_type": "text",
    "id": "0xik1xf6OGeE"
   },
   "source": [
    "**1 Menor de dois pares:** Escreva uma função que retorne o menor de dois números dados se ambos os números forem pares, mas retorna o maior se um dos dois for ímpar. Exemplo:\n",
    "```\n",
    "menor_de_dois_pares(2,4) --> 2\n",
    "menor_de_dois_pares (2,5) --> 5\n",
    "```"
   ]
  },
  {
   "cell_type": "code",
   "execution_count": null,
   "metadata": {
    "colab": {
     "base_uri": "https://localhost:8080/",
     "height": 34
    },
    "colab_type": "code",
    "executionInfo": {
     "elapsed": 596,
     "status": "ok",
     "timestamp": 1586390512441,
     "user": {
      "displayName": "Lucas Amaral Silva",
      "photoUrl": "",
      "userId": "04169490177947881435"
     },
     "user_tz": 180
    },
    "id": "uvavUfccOGeF",
    "outputId": "2ee74887-5617-409a-990f-b849bc654fa3"
   },
   "outputs": [
    {
     "name": "stdout",
     "output_type": "stream",
     "text": [
      "4\n"
     ]
    }
   ],
   "source": [
    "#solução\n",
    "def menorDeDoisPares(n1, n2):\n",
    "    if n1 % 2 == 0 and n2 % 2 ==0:\n",
    "        if n1 > n2:\n",
    "            print(n2)\n",
    "        else:\n",
    "            print(n1)\n",
    "    else:\n",
    "        if n1 > n2:\n",
    "            print(n1)\n",
    "        else:\n",
    "            print(n2)  \n",
    "menorDeDoisPares(4,8)"
   ]
  },
  {
   "cell_type": "markdown",
   "metadata": {
    "colab_type": "text",
    "id": "iTdMtAN0OGeM"
   },
   "source": [
    "**2 Mesma letra:** Escreva uma função que receba uma string com duas palavras e retorne True se ambas palavras começarem com a mesma letra. Exemplo:\n",
    "```\n",
    "mesma_letra('Cão covarde') -> True\n",
    "mesma_letra('Vira Lata') -> False\n",
    "```"
   ]
  },
  {
   "cell_type": "code",
   "execution_count": null,
   "metadata": {
    "colab": {
     "base_uri": "https://localhost:8080/",
     "height": 34
    },
    "colab_type": "code",
    "executionInfo": {
     "elapsed": 1164,
     "status": "ok",
     "timestamp": 1586390548838,
     "user": {
      "displayName": "Lucas Amaral Silva",
      "photoUrl": "",
      "userId": "04169490177947881435"
     },
     "user_tz": 180
    },
    "id": "DliOtm3XOGeO",
    "outputId": "637c859f-226b-4694-f400-4fbf0729c77f"
   },
   "outputs": [
    {
     "data": {
      "text/plain": [
       "True"
      ]
     },
     "execution_count": 4,
     "metadata": {
      "tags": []
     },
     "output_type": "execute_result"
    }
   ],
   "source": [
    "#solução\n",
    "def mesma_letra(palavra):\n",
    "    \n",
    "    partes = palavra.split(\" \");\n",
    "    if partes[0][0].upper() == partes[1][0].upper():\n",
    "        return True\n",
    "    return False\n",
    "\n",
    "mesma_letra(\"Cão covarde\")"
   ]
  },
  {
   "cell_type": "markdown",
   "metadata": {
    "colab_type": "text",
    "id": "Db1OpPi5OGeU"
   },
   "source": [
    "**3 Tem 33:** Faça uma função que retorne True se, dada uma lista de inteiros, houver em alguma posição da lista um 3 do lado de outro 3. Exemplo:\n",
    "```\n",
    "tem_33([1,3,3]) --> True\n",
    "tem_33([1,3,1,3]) --> False\n",
    "tem_33([3,1,3]) --> False\n",
    "```"
   ]
  },
  {
   "cell_type": "code",
   "execution_count": null,
   "metadata": {
    "colab": {
     "base_uri": "https://localhost:8080/",
     "height": 51
    },
    "colab_type": "code",
    "executionInfo": {
     "elapsed": 932,
     "status": "ok",
     "timestamp": 1586390596446,
     "user": {
      "displayName": "Lucas Amaral Silva",
      "photoUrl": "",
      "userId": "04169490177947881435"
     },
     "user_tz": 180
    },
    "id": "06RFrzuPOGeV",
    "outputId": "f2d470aa-cb3a-4b29-cc66-fff7c456af34"
   },
   "outputs": [
    {
     "name": "stdout",
     "output_type": "stream",
     "text": [
      "Sim, ele esta aqui\n",
      "Sim, ele esta aqui\n"
     ]
    }
   ],
   "source": [
    "#solução\n",
    "def acha_perdido (lista):\n",
    "    estado = 'nada'\n",
    "    for n in lista:\n",
    "        if n == 3 and estado == 'nada':\n",
    "            estado = '3'\n",
    "        elif n == 3 and estado == '3':\n",
    "            estado = '33'\n",
    "            print (\"Sim, ele esta aqui\")\n",
    "            break\n",
    "        elif estado == '3' and n !=3:\n",
    "            estado = 'nada'\n",
    "        \n",
    "acha_perdido([0,1,2,0,3,3,5]) \n",
    "acha_perdido([1,3,3,2,4,4,7])"
   ]
  },
  {
   "cell_type": "markdown",
   "metadata": {
    "colab_type": "text",
    "id": "NY_8HBuSOGeb"
   },
   "source": [
    "**4 Blackjack:** Faça uma função que receba 3 inteiros entre 1 e 11. Se a soma deles for menor que 21, retorne o valor da soma. Se for mair do que 21 e houver um 11, subtraia 10 da soma antes de apresentar o resultado. Se o valor da soma passar de 21, retorne ‘ESTOUROU’. Exemplo:\n",
    "```\n",
    "blackjack(5,6,7) --> 18\n",
    "blackjack(9,9,9) --> 'ESTOUROU'\n",
    "blackjack(9,9,11) --> 19\n",
    "```"
   ]
  },
  {
   "cell_type": "code",
   "execution_count": null,
   "metadata": {
    "colab": {
     "base_uri": "https://localhost:8080/",
     "height": 68
    },
    "colab_type": "code",
    "executionInfo": {
     "elapsed": 918,
     "status": "ok",
     "timestamp": 1586390612223,
     "user": {
      "displayName": "Lucas Amaral Silva",
      "photoUrl": "",
      "userId": "04169490177947881435"
     },
     "user_tz": 180
    },
    "id": "tZytwIYjOGec",
    "outputId": "edeb047c-31ee-4fa8-b809-f06688e20b57"
   },
   "outputs": [
    {
     "name": "stdout",
     "output_type": "stream",
     "text": [
      "18\n",
      "('ESTOUROU', 27)\n",
      "19\n"
     ]
    }
   ],
   "source": [
    "#solução\n",
    "\n",
    "def blackjack(n1, n2, n3):\n",
    "    soma=n1 + n2 + n3\n",
    "    if soma <= 21:\n",
    "        return soma\n",
    "    else:\n",
    "        if 11 in [n1, n2, n3]:\n",
    "            return soma - 10\n",
    "        return ('ESTOUROU',soma)\n",
    "\n",
    "print(blackjack(5,6,7))\n",
    "print(blackjack(9,9,9))\n",
    "print(blackjack(9,9,11))"
   ]
  },
  {
   "cell_type": "markdown",
   "metadata": {
    "colab_type": "text",
    "id": "xUftkpVAOGeh"
   },
   "source": [
    "**5 Espião:** Escreva uma função que receba uma lista de inteiros e retorne True se contém um 007 em ordem, mesmo que não contínuo. Exemplo:\n",
    "```\n",
    "espiao([1,2,4,0,0,7,5]) --> True\n",
    "espiao([1,0,2,4,0,5,7]) --> True\n",
    "espiao([1,7,2,4,0,5,0]) --> False\n",
    "```"
   ]
  },
  {
   "cell_type": "code",
   "execution_count": null,
   "metadata": {
    "colab": {
     "base_uri": "https://localhost:8080/",
     "height": 68
    },
    "colab_type": "code",
    "executionInfo": {
     "elapsed": 945,
     "status": "ok",
     "timestamp": 1586390640882,
     "user": {
      "displayName": "Lucas Amaral Silva",
      "photoUrl": "",
      "userId": "04169490177947881435"
     },
     "user_tz": 180
    },
    "id": "CGXltPcwOGej",
    "outputId": "1cd2a985-6ed7-4145-cdbd-696456c7ccbb"
   },
   "outputs": [
    {
     "name": "stdout",
     "output_type": "stream",
     "text": [
      "True\n",
      "True\n",
      "False\n"
     ]
    }
   ],
   "source": [
    "#solução\n",
    "def espiao(lista):\n",
    "    estado=\"nada\"\n",
    "    for simbolo in lista:\n",
    "        if simbolo == 0:\n",
    "            if estado == \"nada\":\n",
    "                estado = \"zero\"\n",
    "            elif estado == \"zero\":\n",
    "                estado = \"zero zero\"\n",
    "        elif simbolo == 7:\n",
    "            if estado == \"zero zero\":\n",
    "                estado = \"zero zero sete\"\n",
    "                return True\n",
    "            else:\n",
    "                return False\n",
    "\n",
    "print(espiao([1,2,4,0,0,7,5]))\n",
    "print(espiao([1,0,2,4,0,5,7]))\n",
    "print(espiao([1,7,2,4,0,5,0]))"
   ]
  }
 ],
 "metadata": {
  "colab": {
   "name": "Copy of USJT-2020-LINGPROG-aula04-pratica-metodos-funcoes-args.ipynb",
   "provenance": [
    {
     "file_id": "11Bf7qyW_qttoDSl4BdD72G8e11UUXDjn",
     "timestamp": 1586356680027
    }
   ]
  },
  "kernelspec": {
   "display_name": "Python 3",
   "language": "python",
   "name": "python3"
  },
  "language_info": {
   "codemirror_mode": {
    "name": "ipython",
    "version": 3
   },
   "file_extension": ".py",
   "mimetype": "text/x-python",
   "name": "python",
   "nbconvert_exporter": "python",
   "pygments_lexer": "ipython3",
   "version": "3.7.3"
  }
 },
 "nbformat": 4,
 "nbformat_minor": 2
}
